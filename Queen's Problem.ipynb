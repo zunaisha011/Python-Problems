{
 "cells": [
  {
   "cell_type": "code",
   "execution_count": 7,
   "id": "b6b96dea-e317-4316-8969-13ffa43f6579",
   "metadata": {},
   "outputs": [
    {
     "data": {
      "image/png": "[encoded data removed]",
      "text/plain": [
       "<Figure size 600x600 with 1 Axes>"
      ]
     },
     "metadata": {},
     "output_type": "display_data"
    }
   ],
   "source": [
    "import matplotlib.pyplot as plt\n",
    "import numpy as np\n",
    "\n",
    "def plot_chessboard(solution):\n",
    "    \"\"\"\n",
    "    Plots the chessboard with the solution using matplotlib.\n",
    "    \"\"\"\n",
    "    n = len(solution)\n",
    "    board = np.zeros((n, n))\n",
    "\n",
    "    for i in range(n):\n",
    "        for j in range(n):\n",
    "            if (i + j) % 2 == 0:\n",
    "                board[i][j] = 1  \n",
    "\n",
    "    fig, ax = plt.subplots(figsize=(6, 6))\n",
    "    ax.imshow(board, cmap=\"gray\", interpolation=\"nearest\")\n",
    "\n",
    "    for row, col in solution:\n",
    "        ax.text(col, row, '♛', ha='center', va='center', fontsize=24, color=\"red\")\n",
    "\n",
    "    ax.set_xticks(np.arange(-0.5, n, 1), minor=True)\n",
    "    ax.set_yticks(np.arange(-0.5, n, 1), minor=True)\n",
    "    ax.grid(which=\"minor\", color=\"grey\", linestyle='-', linewidth=2)\n",
    "    ax.tick_params(which=\"minor\", bottom=False, left=False)\n",
    "    ax.axis(\"off\")\n",
    "    plt.show()\n",
    "\n",
    "def is_consistent(assignment, row, col):\n",
    "    \"\"\"\n",
    "    Check if placing a queen at (row, col) is consistent with the current assignment.\n",
    "    \"\"\"\n",
    "    for r, c in assignment:\n",
    "        if c == col or abs(r - row) == abs(c - col):\n",
    "            return False\n",
    "    return True\n",
    "\n",
    "def solve_n_queens_csp(n, row=0, assignment=None):\n",
    "    \"\"\"\n",
    "    Solves the N-Queens problem using CSP with backtracking.\n",
    "    \"\"\"\n",
    "    if assignment is None:\n",
    "        assignment = []\n",
    "\n",
    "    if row == n:\n",
    "        return assignment\n",
    "\n",
    "    for col in range(n):\n",
    "        if is_consistent(assignment, row, col):\n",
    "            assignment.append((row, col))\n",
    "            result = solve_n_queens_csp(n, row + 1, assignment)\n",
    "            if result:\n",
    "                return result\n",
    "            assignment.pop()  \n",
    "\n",
    "    return None\n",
    "\n",
    "n = 8\n",
    "solution = solve_n_queens_csp(n)\n",
    "if solution:\n",
    "    plot_chessboard(solution)\n",
    "else:\n",
    "    print(\"No solution found.\")"
   ]
  },
  {
   "cell_type": "code",
   "execution_count": null,
   "id": "a730ff3e-c5e5-45d4-9628-736bfc4f068b",
   "metadata": {},
   "outputs": [],
   "source": []
  }
 ],
 "metadata": {
  "kernelspec": {
   "display_name": "Python 3 (ipykernel)",
   "language": "python",
   "name": "python3"
  },
  "language_info": {
   "codemirror_mode": {
    "name": "ipython",
    "version": 3
   },
   "file_extension": ".py",
   "mimetype": "text/x-python",
   "name": "python",
   "nbconvert_exporter": "python",
   "pygments_lexer": "ipython3",
   "version": "3.13.5"
  }
 },
 "nbformat": 4,
 "nbformat_minor": 5
}
